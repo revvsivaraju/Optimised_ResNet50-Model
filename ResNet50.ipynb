{
  "nbformat": 4,
  "nbformat_minor": 0,
  "metadata": {
    "colab": {
      "provenance": []
    },
    "kernelspec": {
      "name": "python3",
      "display_name": "Python 3"
    },
    "language_info": {
      "name": "python"
    }
  },
  "cells": [
    {
      "cell_type": "code",
      "source": [
        "import tensorflow as tf\n",
        "from tensorflow.keras.applications import ResNet50\n",
        "from tensorflow.keras.datasets import mnist\n",
        "from tensorflow.keras.utils import to_categorical\n",
        "import time\n"
      ],
      "metadata": {
        "id": "8AsZhESDIw10"
      },
      "execution_count": 17,
      "outputs": []
    },
    {
      "cell_type": "code",
      "source": [
        "# Load MNIST data\n",
        "(x_train, y_train), (x_test, y_test) = mnist.load_data()\n",
        "\n",
        "# Preprocess data\n",
        "x_train = x_train.astype('float32') / 255.0\n",
        "x_test = x_test.astype('float32') / 255.0\n",
        "\n",
        "# Convert grayscale to RGB by repeating the single channel\n",
        "x_train = tf.image.grayscale_to_rgb(tf.expand_dims(x_train, -1))\n",
        "x_test = tf.image.grayscale_to_rgb(tf.expand_dims(x_test, -1))\n",
        "\n",
        "# Resize images to 32x32\n",
        "x_train = tf.image.resize(x_train, [32, 32])\n",
        "x_test = tf.image.resize(x_test, [32, 32])\n",
        "\n",
        "# Convert labels to categorical\n",
        "y_train = to_categorical(y_train, 10)\n",
        "y_test = to_categorical(y_test, 10)\n"
      ],
      "metadata": {
        "id": "UBBtkApxIxDr"
      },
      "execution_count": 18,
      "outputs": []
    },
    {
      "cell_type": "code",
      "source": [
        "def build_resnet50_gpu():\n",
        "    # Use ResNet50 from Keras applications\n",
        "    base_model = ResNet50(weights=None, include_top=False, input_shape=(32, 32, 3))\n",
        "\n",
        "    # Add custom top layers\n",
        "    x = base_model.output\n",
        "    x = tf.keras.layers.GlobalAveragePooling2D()(x)\n",
        "    x = tf.keras.layers.Dense(10, activation='softmax')(x)\n",
        "\n",
        "    model = tf.keras.Model(inputs=base_model.input, outputs=x)\n",
        "\n",
        "    model.compile(optimizer='adam', loss='categorical_crossentropy', metrics=['accuracy'])\n",
        "    return model\n"
      ],
      "metadata": {
        "id": "ynmUYP1FIyQc"
      },
      "execution_count": 19,
      "outputs": []
    },
    {
      "cell_type": "code",
      "source": [
        "# Train and evaluate the ResNet-50 model on CPU\n",
        "with tf.device('/CPU:0'):\n",
        "    model_cpu = build_resnet50_gpu()\n",
        "    print(\"Training ResNet-50 Model on CPU.......\")\n",
        "\n",
        "    # Record training time\n",
        "    start_time = time.time()\n",
        "    history_gpu = model_cpu.fit(x_train, y_train, epochs=1, batch_size=64, validation_split=0.1, verbose=2)\n",
        "    end_time = time.time()\n",
        "    cpu_training_time = end_time - start_time\n",
        "\n",
        "    # Evaluate model\n",
        "    start_time = time.time()\n",
        "    test_loss, test_acc = modemodel_cpul_gpu.evaluate(x_test, y_test, verbose=2)\n",
        "    end_time = time.time()\n",
        "    cpu_inference_time = end_time - start_time\n",
        "\n",
        "print(f\"CPU Training Time: {cpu_training_time:.2f} seconds\")\n",
        "print(f\"CPU Inference Time: {cpu_inference_time:.2f} seconds\")\n"
      ],
      "metadata": {
        "colab": {
          "base_uri": "https://localhost:8080/"
        },
        "id": "VyE3hgErI0aq",
        "outputId": "2e043eb4-cc9b-48a8-976d-5138afc7658f"
      },
      "execution_count": null,
      "outputs": [
        {
          "output_type": "stream",
          "name": "stdout",
          "text": [
            "Training ResNet-50 Model on CPU.......\n"
          ]
        }
      ]
    },
    {
      "cell_type": "code",
      "source": [
        "class CustomConv2D(tf.keras.layers.Layer):\n",
        "    def __init__(self, filters, kernel_size, strides=(1, 1), padding='SAME', **kwargs):\n",
        "        super(CustomConv2D, self).__init__(**kwargs)\n",
        "        self.filters = filters\n",
        "        self.kernel_size = kernel_size\n",
        "        self.strides = strides\n",
        "        self.padding = padding\n",
        "\n",
        "    def build(self, input_shape):\n",
        "        self.kernel = self.add_weight(\n",
        "            shape=(*self.kernel_size, input_shape[-1], self.filters),\n",
        "            initializer='glorot_uniform',\n",
        "            trainable=True\n",
        "        )\n",
        "\n",
        "    def call(self, inputs):\n",
        "        return tf.nn.conv2d(\n",
        "            inputs,\n",
        "            self.kernel,\n",
        "            strides=[1, *self.strides, 1],\n",
        "            padding=self.padding\n",
        "        )\n"
      ],
      "metadata": {
        "id": "GMhgC_VmJxSi"
      },
      "execution_count": null,
      "outputs": []
    },
    {
      "cell_type": "code",
      "source": [
        "def residual_block(x, filters, kernel_size=(3, 3), strides=(1, 1), padding='SAME'):\n",
        "    shortcut = x\n",
        "    x = CustomConv2D(filters, kernel_size, strides=strides, padding=padding)(x)\n",
        "    x = tf.keras.layers.BatchNormalization()(x)\n",
        "    x = tf.keras.layers.ReLU()(x)\n",
        "\n",
        "    x = CustomConv2D(filters, kernel_size, strides=strides, padding=padding)(x)\n",
        "    x = tf.keras.layers.BatchNormalization()(x)\n",
        "\n",
        "    if x.shape[-1] != shortcut.shape[-1]:\n",
        "        shortcut = CustomConv2D(filters, (1, 1), strides=strides, padding=padding)(shortcut)\n",
        "        shortcut = tf.keras.layers.BatchNormalization()(shortcut)\n",
        "\n",
        "    x = tf.keras.layers.add([x, shortcut])\n",
        "    x = tf.keras.layers.ReLU()(x)\n",
        "    return x\n"
      ],
      "metadata": {
        "id": "RNFmRppTI2G_"
      },
      "execution_count": null,
      "outputs": []
    },
    {
      "cell_type": "code",
      "source": [
        "def build_custom_resnet50():\n",
        "    inputs = tf.keras.Input(shape=(32, 32, 3))\n",
        "\n",
        "    # Initial Conv Layer\n",
        "    x = CustomConv2D(64, (7, 7), strides=(2, 2))(inputs)\n",
        "    x = tf.keras.layers.BatchNormalization()(x)\n",
        "    x = tf.keras.layers.ReLU()(x)\n",
        "    x = tf.keras.layers.MaxPooling2D(pool_size=(3, 3), strides=(2, 2), padding='SAME')(x)\n",
        "\n",
        "    # Residual Blocks\n",
        "    x = residual_block(x, 64)\n",
        "    x = residual_block(x, 64)\n",
        "    x = residual_block(x, 64)\n",
        "\n",
        "    x = residual_block(x, 128, strides=(2, 2))\n",
        "    x = residual_block(x, 128)\n",
        "    x = residual_block(x, 128)\n",
        "\n",
        "    x = residual_block(x, 256, strides=(2, 2))\n",
        "    x = residual_block(x, 256)\n",
        "    x = residual_block(x, 256)\n",
        "\n",
        "    x = residual_block(x, 512, strides=(2, 2))\n",
        "    x = residual_block(x, 512)\n",
        "\n",
        "    x = tf.keras.layers.GlobalAveragePooling2D()(x)\n",
        "    x = tf.keras.layers.Dense(10, activation='softmax')(x)\n",
        "\n",
        "    model = tf.keras.Model(inputs, x)\n",
        "    model.compile(optimizer='adam', loss='categorical_crossentropy', metrics=['accuracy'])\n",
        "    return model\n"
      ],
      "metadata": {
        "id": "KF1-E9FKJ7to"
      },
      "execution_count": null,
      "outputs": []
    },
    {
      "cell_type": "code",
      "source": [
        "# Train and evaluate the custom ResNet-50 model on GPU\n",
        "with tf.device('/GPU:0'):\n",
        "    model_gpu = build_custom_resnet50()\n",
        "    print(\"Training Custom ResNet-50 Model on GPU...\")\n",
        "\n",
        "    start_time = time.time()\n",
        "    history_cpu = model_gpu.fit(x_train, y_train, epochs=1, batch_size=64, validation_split=0.1, verbose=2)\n",
        "    end_time = time.time()\n",
        "    gpu_training_time = end_time - start_time\n",
        "\n",
        "    # Evaluate model\n",
        "    start_time = time.time()\n",
        "    test_loss, test_acc = model_gpu.evaluate(x_test, y_test, verbose=2)\n",
        "    end_time = time.time()\n",
        "    gpu_inference_time = end_time - start_time\n",
        "\n",
        "print(f\"GPU Training Time: {gpu_training_time:.2f} seconds\")\n",
        "print(f\"GPU Inference Time: {gpu_inference_time:.2f} seconds\")\n"
      ],
      "metadata": {
        "id": "OMV26B1fJ8JW"
      },
      "execution_count": null,
      "outputs": []
    }
  ]
}